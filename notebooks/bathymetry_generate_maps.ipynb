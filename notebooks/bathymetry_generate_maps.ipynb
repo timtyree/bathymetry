{
 "cells": [
  {
   "cell_type": "markdown",
   "metadata": {},
   "source": [
    "## Jupyter notebook notes to run: \n",
    "### Change the ACCESS_KEY and SECRET_KEY to AWS Credentials. \n"
   ]
  },
  {
   "cell_type": "code",
   "execution_count": 1,
   "metadata": {},
   "outputs": [],
   "source": [
    "import pandas as pd\n",
    "import s3fs\n",
    "from pandas import DataFrame\n",
    "import seaborn as sns\n",
    "import matplotlib.pyplot as plt\n",
    "import numpy as np\n",
    "\n",
    "from boto3.session import Session"
   ]
  },
  {
   "cell_type": "code",
   "execution_count": null,
   "metadata": {},
   "outputs": [],
   "source": [
    "# Change this to \n",
    "ACCESS_KEY = 'XXX'\n",
    "SECRET_KEY = 'XXX'\n",
    "\n",
    "session = Session(aws_access_key_id=ACCESS_KEY,\n",
    "                  aws_secret_access_key=SECRET_KEY)\n",
    "s3 = session.resource('s3')\n",
    "your_bucket = s3.Bucket('bathymetry')\n",
    "\n",
    "for s3_file in your_bucket.objects.all():\n",
    "    print(s3_file.key)"
   ]
  },
  {
   "cell_type": "code",
   "execution_count": null,
   "metadata": {},
   "outputs": [],
   "source": [
    "# Read in data from a subset of a region's dataset.\n",
    "import random \n",
    "\n",
    "def get_data_from_s3(prefix, is_jamstec, is_test):\n",
    "    \n",
    "    new_df = df_ = pd.DataFrame()\n",
    "    \n",
    "    # 100 corresponds to 20% of a region's dataset\n",
    "    # 250 corresponds to 50% of a region's dataset\n",
    "    \n",
    "    num_samples = 50\n",
    "    \n",
    "    if is_jamstec: \n",
    "        rand_list = random.sample(range(175), num_samples)\n",
    "    elif is_test: \n",
    "        rand_list = random.sample(range(108), 108)\n",
    "    else: \n",
    "        rand_list = random.sample(range(500), num_samples)\n",
    "\n",
    "    counter = 0 \n",
    "    for r in rand_list:   \n",
    "        if 0 <= r <= 9: \n",
    "            new_prefix = prefix[:-1]\n",
    "        elif 10 <= r <= 99: \n",
    "            new_prefix = prefix[:-2]\n",
    "        elif 100 <= 999: \n",
    "            new_prefix = prefix[:-3]\n",
    "        new_prefix += str(r)\n",
    "        new_prefix += '.tsv'\n",
    "        counter += 1\n",
    "        if counter % 10 == 0: \n",
    "            print(new_prefix, \" \", counter)\n",
    "        df = pd.read_csv(new_prefix, sep=' ', header=None)\n",
    "        new_df = new_df.append(df)\n",
    "        \n",
    "    return new_df\n"
   ]
  },
  {
   "cell_type": "code",
   "execution_count": null,
   "metadata": {},
   "outputs": [],
   "source": [
    "# takes fewer lines from each file but looks at more files \n",
    "import random \n",
    "\n",
    "def get_more_data_from_s3(prefix, is_jamstec, is_test):\n",
    "    \n",
    "    new_df = df_ = pd.DataFrame()\n",
    "    \n",
    "    # 100 corresponds to 20% of a region's dataset\n",
    "    # 250 corresponds to 50% of a region's dataset\n",
    "    \n",
    "    num_samples = 200\n",
    "    \n",
    "    if is_jamstec: \n",
    "        rand_list = random.sample(range(175), num_samples)\n",
    "    elif is_test: \n",
    "        rand_list = random.sample(range(108), num_samples)\n",
    "    else: \n",
    "        rand_list = random.sample(range(500), num_samples)\n",
    "\n",
    "    counter = 0 \n",
    "    for r in rand_list:   \n",
    "        if 0 <= r <= 9: \n",
    "            new_prefix = prefix[:-1]\n",
    "        elif 10 <= r <= 99: \n",
    "            new_prefix = prefix[:-2]\n",
    "        elif 100 <= 999: \n",
    "            new_prefix = prefix[:-3]\n",
    "        new_prefix += str(r)\n",
    "        new_prefix += '.tsv'\n",
    "        counter += 1\n",
    "        if counter % 10 == 0: \n",
    "            print(new_prefix, \" \", counter)\n",
    "        df = pd.read_csv(new_prefix, sep=' ', header=None, nrows=1000)\n",
    "        new_df = new_df.append(df)\n",
    "        \n",
    "    return new_df"
   ]
  },
  {
   "cell_type": "code",
   "execution_count": null,
   "metadata": {},
   "outputs": [],
   "source": [
    "prefix = 's3://bathymetry/JAMSTEC/JAMSTEC-part00000'\n",
    "jamstec_df = get_more_data_from_s3(prefix, False, False)\n",
    "jamstec_df.head()"
   ]
  },
  {
   "cell_type": "code",
   "execution_count": null,
   "metadata": {},
   "outputs": [],
   "source": [
    "prefix = 's3://bathymetry/JAMSTEC2/JAMSTEC2-part00000'\n",
    "jamstec2_df = get_more_data_from_s3(prefix, True, False)\n",
    "jamstec2_df.head()"
   ]
  },
  {
   "cell_type": "code",
   "execution_count": null,
   "metadata": {},
   "outputs": [],
   "source": [
    "prefix = 's3://bathymetry/NGDC/NGDC-part00000'\n",
    "ngdc_df = get_more_data_from_s3(prefix, False, False)\n",
    "ngdc_df.head()"
   ]
  },
  {
   "cell_type": "code",
   "execution_count": null,
   "metadata": {},
   "outputs": [],
   "source": [
    "prefix = 's3://bathymetry/SIO/SIO-part00000'\n",
    "sio_df = get_more_data_from_s3(prefix,  False, False)\n",
    "sio_df.head()"
   ]
  },
  {
   "cell_type": "code",
   "execution_count": null,
   "metadata": {},
   "outputs": [],
   "source": [
    "prefix = 's3://bathymetry/US_multi/US_multi-part00000'\n",
    "us_multi_df = get_more_data_from_s3(prefix, False, False)\n",
    "us_multi_df.head()"
   ]
  },
  {
   "cell_type": "code",
   "execution_count": null,
   "metadata": {},
   "outputs": [],
   "source": [
    "prefix = 's3://bathymetry/test/test-part00000'\n",
    "test_df = get_more_data_from_s3(prefix, False, True)\n",
    "test_df.head()"
   ]
  },
  {
   "cell_type": "code",
   "execution_count": null,
   "metadata": {},
   "outputs": [],
   "source": [
    "def processing_df(df):\n",
    "    cols = [\"lon\", \"lat\", \"depth\", \"sigh\", \"sigd\", \"SID\", \"pred\", \"ID\", \"(pred-depth)/depth\", \"d10\", 'd20', \"d60\", \"age\", \"VGG\", \"rate\", \"sed\", \"roughness\", \"G:T\", \"NDP2.5m\", \"NDP5m\", \"NDP10m\", \"NDP30m\", \"STD2.5m\", \"STD5m\", \"STD10m\", \"STD30m\", \"MED2.5\", \"MED5m\", \"MED10m\", \"MED30m\", \"D-MED2.5m/STD2.5m\", \"D-MED5m/STD5m\", \"D-MED10m/STD10m\", \"D-MED30m/STD30m\", \"year\", \"kind\"]\n",
    "    df.columns=cols\n",
    "    \n",
    "    # Count number of good vs. bad cruises, using sigd=9999 for false\n",
    "    df.loc[(df.sigd != \"9999\"), 'sigd'] = 1\n",
    "    df.loc[(df.sigd == \"9999\"), 'sigd'] = 0\n",
    "    df = df.drop(columns=['SID', 'ID', 'kind'])\n",
    "\n",
    "    # Convert all columns to float: \n",
    "    new_cols = df.columns\n",
    "    for c in new_cols: \n",
    "        df = df[~df[c].isin([\"NaN\"])]\n",
    "        df[c] = pd.to_numeric(df[c])\n",
    "        \n",
    "    return df"
   ]
  },
  {
   "cell_type": "code",
   "execution_count": null,
   "metadata": {},
   "outputs": [],
   "source": [
    "jamstec_df = processing_df(jamstec_df)\n",
    "jamstec2_df = processing_df(jamstec2_df)\n",
    "ngdc_df = processing_df(ngdc_df)\n",
    "us_multi_df = processing_df(us_multi_df)\n",
    "sio_df = processing_df(sio_df)\n",
    "test_df = processing_df(test_df)"
   ]
  },
  {
   "cell_type": "code",
   "execution_count": null,
   "metadata": {},
   "outputs": [],
   "source": [
    "new_cols = jamstec_df.columns\n",
    "print(new_cols)"
   ]
  },
  {
   "cell_type": "markdown",
   "metadata": {},
   "source": [
    "# Create 2D mappings of the dataset using latitude and longitude: "
   ]
  },
  {
   "cell_type": "code",
   "execution_count": null,
   "metadata": {},
   "outputs": [],
   "source": [
    "colors = ['blue', 'orange', 'green', 'red', 'purple', 'gray']\n",
    "labels = [\"JAMSTEC\", \"JAMSTEC2\", \"SIO\", \"NGDC\", \"US_MULTI\", \"TEST\"]\n",
    "list_dfs = [jamstec_df, jamstec2_df, sio_df, ngdc_df, us_multi_df, test_df]\n",
    "\n",
    "plt.rcParams.update({'font.size': 22})\n",
    "plt.figure(figsize=(20,10))\n",
    "\n",
    "for i in range(0, len(list_dfs)):\n",
    "    print(labels[i])\n",
    "    lon = list_dfs[i]['lon'].values\n",
    "    lat = list_dfs[i]['lat'].values\n",
    "    plt.scatter(lon, lat, c=colors[i], label=labels[i])\n",
    "                \n",
    "\n",
    "plt.title('Mappings of different cruise regions')\n",
    "plt.xlabel('Longitude')\n",
    "plt.ylabel('Latitude')\n",
    "plt.legend()\n",
    "\n",
    "plt.show()\n"
   ]
  },
  {
   "cell_type": "code",
   "execution_count": null,
   "metadata": {},
   "outputs": [],
   "source": [
    "colors = ['blue', 'orange', 'green', 'red', 'purple', 'gray']\n",
    "labels = [\"JAMSTEC\", \"JAMSTEC2\", \"SIO\", \"NGDC\", \"US_MULTI\", \"TEST\"]\n",
    "list_dfs = [jamstec_df, jamstec2_df, sio_df, ngdc_df, us_multi_df, test_df]\n",
    "\n",
    "\n",
    "for i in range(0, len(list_dfs)-1):\n",
    "    plt.rcParams.update({'font.size': 22})\n",
    "    plt.figure(figsize=(20,10))\n",
    "\n",
    "    lon = list_dfs[i]['lon'].values\n",
    "    lat = list_dfs[i]['lat'].values\n",
    "\n",
    "    plt.scatter(x=lon, y=lat,c=colors[i], label=labels[i])\n",
    "    plt.scatter(x=test_df['lon'], y=test_df['lat'],c='gray', label=\"TEST\")\n",
    "\n",
    "\n",
    "    plt.title('Mappings of different cruise regions')\n",
    "    plt.xlabel('Longitude')\n",
    "    plt.ylabel('Latitude')\n",
    "    plt.legend()\n",
    "\n",
    "    plt.show()"
   ]
  },
  {
   "cell_type": "markdown",
   "metadata": {},
   "source": [
    "# Create 3D mappings of the dataset using latitude, longitude, and year: "
   ]
  },
  {
   "cell_type": "code",
   "execution_count": null,
   "metadata": {},
   "outputs": [],
   "source": [
    "from mpl_toolkits.mplot3d import Axes3D\n",
    "import matplotlib.pyplot as plt\n",
    "\n",
    "fig = plt.figure(figsize=(12,10))\n",
    "ax = fig.add_subplot(111, projection='3d')\n",
    "\n",
    "df = jamstec_df\n",
    "\n",
    "\n",
    "ax.scatter(df['lon'], df['lat'], df['year'], s=100, c='r', marker='o', label='JAMSTEC')\n",
    "ax.scatter(test_df['lon'], test_df['lat'], test_df['year'], s=100, c='gray', marker='o', label='TEST')\n",
    "\n",
    "\n",
    "ax.set_xlabel('Longitude', labelpad=20)\n",
    "ax.set_ylabel('Latitude', labelpad=20)\n",
    "ax.set_zlabel('Year', labelpad=20)\n",
    "ax.dist = 10\n",
    "\n",
    "plt.legend()\n",
    "plt.show()"
   ]
  },
  {
   "cell_type": "code",
   "execution_count": null,
   "metadata": {},
   "outputs": [],
   "source": [
    "from mpl_toolkits.mplot3d import Axes3D\n",
    "import matplotlib.pyplot as plt\n",
    "\n",
    "fig = plt.figure(figsize=(12,10))\n",
    "ax = fig.add_subplot(111, projection='3d')\n",
    "\n",
    "df = jamstec2_df\n",
    "\n",
    "\n",
    "ax.scatter(df['lon'], df['lat'], df['year'], s=100, c='r', marker='o', label='JAMSTEC2')\n",
    "ax.scatter(test_df['lon'], test_df['lat'], test_df['year'], s=100, c='gray', marker='o', label='TEST')\n",
    "\n",
    "\n",
    "ax.set_xlabel('Longitude', labelpad=20)\n",
    "ax.set_ylabel('Latitude', labelpad=20)\n",
    "ax.set_zlabel('Year', labelpad=20)\n",
    "ax.dist = 10\n",
    "\n",
    "plt.legend()\n",
    "plt.show()"
   ]
  },
  {
   "cell_type": "code",
   "execution_count": null,
   "metadata": {},
   "outputs": [],
   "source": []
  }
 ],
 "metadata": {
  "kernelspec": {
   "display_name": "Python 3",
   "language": "python",
   "name": "python3"
  },
  "language_info": {
   "codemirror_mode": {
    "name": "ipython",
    "version": 3
   },
   "file_extension": ".py",
   "mimetype": "text/x-python",
   "name": "python",
   "nbconvert_exporter": "python",
   "pygments_lexer": "ipython3",
   "version": "3.7.3"
  }
 },
 "nbformat": 4,
 "nbformat_minor": 2
}

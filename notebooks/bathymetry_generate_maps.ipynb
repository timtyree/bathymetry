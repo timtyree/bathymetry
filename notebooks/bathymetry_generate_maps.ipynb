{
 "cells": [
  {
   "cell_type": "markdown",
   "metadata": {},
   "source": [
    "## Jupyter notebook notes to run: \n",
    "### Change the ACCESS_KEY and SECRET_KEY to AWS Credentials. \n"
   ]
  },
  {
   "cell_type": "code",
   "execution_count": 1,
   "metadata": {
    "ExecuteTime": {
     "end_time": "2020-06-13T04:31:30.977007Z",
     "start_time": "2020-06-13T04:31:29.367126Z"
    }
   },
   "outputs": [
    {
     "name": "stdout",
     "output_type": "stream",
     "text": [
      "Populating the interactive namespace from numpy and matplotlib\n"
     ]
    },
    {
     "name": "stderr",
     "output_type": "stream",
     "text": [
      "UserWarning: The Dask Engine for Modin is experimental.\n",
      "UserWarning: \n",
      "Port 8787 is already in use. \n",
      "Perhaps you already have a cluster running?\n",
      "Hosting the diagnostics dashboard on a random port instead.\n"
     ]
    }
   ],
   "source": [
    "\n",
    "%pylab inline\n",
    "import numpy as np\n",
    "import xgboost as xgb\n",
    "from sklearn.model_selection import train_test_split\n",
    "import matplotlib.pyplot as plt\n",
    "from lib import XGBHelper as xgbh\n",
    "import os, pickle\n",
    "import modin.pandas as pd\n",
    "\n",
    "from lib.logger import logger\n",
    "from lib.operari import *\n",
    "if 'nb_dir' not in globals():\n",
    "    nb_dir = os.getcwd()\n",
    "    \n",
    "%load_ext autoreload\n",
    "%autoreload 2\n",
    "\n",
    "import pandas as pd\n",
    "# import s3fs  #if running on aws\n",
    "# from pandas import DataFrame # if running with weak gpu\n",
    "from modin.pandas import DataFrame\n",
    "import modin.pandas as pd\n",
    "import seaborn as sns\n",
    "import matplotlib.pyplot as plt\n",
    "import numpy as np\n",
    "# !pip install boto3\n",
    "from boto3.session import Session\n",
    "\n",
    "from lib.operari import *"
   ]
  },
  {
   "cell_type": "markdown",
   "metadata": {},
   "source": [
    "## IF RUNNING PLOTTING OFFLINE, GOTO END"
   ]
  },
  {
   "cell_type": "code",
   "execution_count": 4,
   "metadata": {
    "ExecuteTime": {
     "end_time": "2020-06-13T03:48:24.896706Z",
     "start_time": "2020-06-13T03:48:24.890921Z"
    }
   },
   "outputs": [],
   "source": [
    "\n",
    "# # Change this to \n",
    "# ACCESS_KEY = 'XXX'\n",
    "# SECRET_KEY = 'XXX'\n",
    "\n",
    "# session = Session(aws_access_key_id=ACCESS_KEY,\n",
    "#                   aws_secret_access_key=SECRET_KEY)\n",
    "# s3 = session.resource('s3')\n",
    "# your_bucket = s3.Bucket('bathymetry')\n",
    "\n",
    "# for s3_file in your_bucket.objects.all():\n",
    "#     print(s3_file.key)"
   ]
  },
  {
   "cell_type": "code",
   "execution_count": 6,
   "metadata": {
    "ExecuteTime": {
     "end_time": "2020-06-13T03:51:33.376260Z",
     "start_time": "2020-06-13T03:51:33.357150Z"
    }
   },
   "outputs": [],
   "source": [
    "# Read in data from a subset of a region's dataset.\n",
    "import random \n",
    "\n",
    "def get_data_from_s3(prefix, is_jamstec, is_test):\n",
    "    \n",
    "    new_df = df_ = pd.DataFrame()\n",
    "    \n",
    "    # 100 corresponds to 20% of a region's dataset\n",
    "    # 250 corresponds to 50% of a region's dataset\n",
    "    \n",
    "    num_samples = 50\n",
    "    \n",
    "    if is_jamstec: \n",
    "        rand_list = random.sample(range(175), num_samples)\n",
    "    elif is_test: \n",
    "        rand_list = random.sample(range(108), 108)\n",
    "    else: \n",
    "        rand_list = random.sample(range(500), num_samples)\n",
    "\n",
    "    counter = 0 \n",
    "    for r in rand_list:   \n",
    "        if 0 <= r <= 9: \n",
    "            new_prefix = prefix[:-1]\n",
    "        elif 10 <= r <= 99: \n",
    "            new_prefix = prefix[:-2]\n",
    "        elif 100 <= 999: \n",
    "            new_prefix = prefix[:-3]\n",
    "        new_prefix += str(r)\n",
    "        new_prefix += '.tsv'\n",
    "        counter += 1\n",
    "        if counter % 10 == 0: \n",
    "            print(new_prefix, \" \", counter)\n",
    "        df = pd.read_csv(new_prefix, sep=' ', header=None)\n",
    "        new_df = new_df.append(df)\n",
    "        \n",
    "    return new_df\n"
   ]
  },
  {
   "cell_type": "code",
   "execution_count": 7,
   "metadata": {
    "ExecuteTime": {
     "end_time": "2020-06-13T03:51:37.481829Z",
     "start_time": "2020-06-13T03:51:37.459364Z"
    }
   },
   "outputs": [],
   "source": [
    "# takes fewer lines from each file but looks at more files \n",
    "import random \n",
    "\n",
    "def get_more_data_from_s3(prefix, is_jamstec, is_test):\n",
    "    \n",
    "    new_df = df_ = pd.DataFrame()\n",
    "    \n",
    "    # 100 corresponds to 20% of a region's dataset\n",
    "    # 250 corresponds to 50% of a region's dataset\n",
    "    \n",
    "    num_samples = 200\n",
    "    \n",
    "    if is_jamstec: \n",
    "        rand_list = random.sample(range(175), num_samples)\n",
    "    elif is_test: \n",
    "        rand_list = random.sample(range(108), num_samples)\n",
    "    else: \n",
    "        rand_list = random.sample(range(500), num_samples)\n",
    "\n",
    "    counter = 0 \n",
    "    for r in rand_list:   \n",
    "        if 0 <= r <= 9: \n",
    "            new_prefix = prefix[:-1]\n",
    "        elif 10 <= r <= 99: \n",
    "            new_prefix = prefix[:-2]\n",
    "        elif 100 <= 999: \n",
    "            new_prefix = prefix[:-3]\n",
    "        new_prefix += str(r)\n",
    "        new_prefix += '.tsv'\n",
    "        counter += 1\n",
    "        if counter % 10 == 0: \n",
    "            print(new_prefix, \" \", counter)\n",
    "        df = pd.read_csv(new_prefix, sep=' ', header=None, nrows=1000)\n",
    "        new_df = new_df.append(df)\n",
    "        \n",
    "    return new_df"
   ]
  },
  {
   "cell_type": "code",
   "execution_count": null,
   "metadata": {},
   "outputs": [],
   "source": [
    "prefix = 's3://bathymetry/JAMSTEC/JAMSTEC-part00000'\n",
    "jamstec_df = get_more_data_from_s3(prefix, False, False)\n",
    "jamstec_df.head()"
   ]
  },
  {
   "cell_type": "code",
   "execution_count": null,
   "metadata": {},
   "outputs": [],
   "source": [
    "prefix = 's3://bathymetry/JAMSTEC2/JAMSTEC2-part00000'\n",
    "jamstec2_df = get_more_data_from_s3(prefix, True, False)\n",
    "jamstec2_df.head()"
   ]
  },
  {
   "cell_type": "code",
   "execution_count": null,
   "metadata": {},
   "outputs": [],
   "source": [
    "prefix = 's3://bathymetry/NGDC/NGDC-part00000'\n",
    "ngdc_df = get_more_data_from_s3(prefix, False, False)\n",
    "ngdc_df.head()"
   ]
  },
  {
   "cell_type": "code",
   "execution_count": 12,
   "metadata": {
    "ExecuteTime": {
     "end_time": "2020-06-13T04:21:38.932176Z",
     "start_time": "2020-06-13T04:21:38.926970Z"
    }
   },
   "outputs": [],
   "source": [
    "# prefix = 's3://bathymetry/NGDC/NGDC-part00000'\n",
    "# prefix.find('NGDC')>0 is not None"
   ]
  },
  {
   "cell_type": "code",
   "execution_count": null,
   "metadata": {},
   "outputs": [],
   "source": [
    "prefix = 's3://bathymetry/SIO/SIO-part00000'\n",
    "sio_df = get_more_data_from_s3(prefix,  False, False)\n",
    "sio_df.head()"
   ]
  },
  {
   "cell_type": "code",
   "execution_count": null,
   "metadata": {},
   "outputs": [],
   "source": [
    "prefix = 's3://bathymetry/US_multi/US_multi-part00000'\n",
    "us_multi_df = get_more_data_from_s3(prefix, False, False)\n",
    "us_multi_df.head()"
   ]
  },
  {
   "cell_type": "code",
   "execution_count": null,
   "metadata": {},
   "outputs": [],
   "source": [
    "prefix = 's3://bathymetry/test/test-part00000'\n",
    "test_df = get_more_data_from_s3(prefix, False, True)\n",
    "test_df.head()"
   ]
  },
  {
   "cell_type": "code",
   "execution_count": null,
   "metadata": {},
   "outputs": [],
   "source": [
    "def processing_df(df):\n",
    "    cols = [\"lon\", \"lat\", \"depth\", \"sigh\", \"sigd\", \"SID\", \"pred\", \"ID\", \"(pred-depth)/depth\", \"d10\", 'd20', \"d60\", \"age\", \"VGG\", \"rate\", \"sed\", \"roughness\", \"G:T\", \"NDP2.5m\", \"NDP5m\", \"NDP10m\", \"NDP30m\", \"STD2.5m\", \"STD5m\", \"STD10m\", \"STD30m\", \"MED2.5\", \"MED5m\", \"MED10m\", \"MED30m\", \"D-MED2.5m/STD2.5m\", \"D-MED5m/STD5m\", \"D-MED10m/STD10m\", \"D-MED30m/STD30m\", \"year\", \"kind\"]\n",
    "    df.columns=cols\n",
    "    \n",
    "    # Count number of good vs. bad cruises, using sigd=9999 for false\n",
    "    df.loc[(df.sigd != \"9999\"), 'sigd'] = 1\n",
    "    df.loc[(df.sigd == \"9999\"), 'sigd'] = 0\n",
    "    df = df.drop(columns=['SID', 'ID', 'kind'])\n",
    "\n",
    "    # Convert all columns to float: \n",
    "    new_cols = df.columns\n",
    "    for c in new_cols: \n",
    "        df = df[~df[c].isin([\"NaN\"])]\n",
    "        df[c] = pd.to_numeric(df[c])\n",
    "        \n",
    "    return df"
   ]
  },
  {
   "cell_type": "code",
   "execution_count": null,
   "metadata": {},
   "outputs": [],
   "source": [
    "jamstec_df = processing_df(jamstec_df)\n",
    "jamstec2_df = processing_df(jamstec2_df)\n",
    "ngdc_df = processing_df(ngdc_df)\n",
    "us_multi_df = processing_df(us_multi_df)\n",
    "sio_df = processing_df(sio_df)\n",
    "test_df = processing_df(test_df)"
   ]
  },
  {
   "cell_type": "code",
   "execution_count": null,
   "metadata": {},
   "outputs": [],
   "source": [
    "new_cols = jamstec_df.columns\n",
    "print(new_cols)"
   ]
  },
  {
   "cell_type": "markdown",
   "metadata": {
    "heading_collapsed": true
   },
   "source": [
    "# Create 2D mappings of the dataset using latitude and longitude: "
   ]
  },
  {
   "cell_type": "code",
   "execution_count": null,
   "metadata": {
    "hidden": true
   },
   "outputs": [],
   "source": [
    "colors = ['blue', 'orange', 'green', 'red', 'purple', 'gray']\n",
    "labels = [\"JAMSTEC\", \"JAMSTEC2\", \"SIO\", \"NGDC\", \"US_MULTI\", \"TEST\"]\n",
    "list_dfs = [jamstec_df, jamstec2_df, sio_df, ngdc_df, us_multi_df, test_df]\n",
    "\n",
    "plt.rcParams.update({'font.size': 22})\n",
    "plt.figure(figsize=(20,10))\n",
    "\n",
    "for i in range(0, len(list_dfs)):\n",
    "    print(labels[i])\n",
    "    lon = list_dfs[i]['lon'].values\n",
    "    lat = list_dfs[i]['lat'].values\n",
    "    plt.scatter(lon, lat, c=colors[i], label=labels[i])\n",
    "                \n",
    "\n",
    "plt.title('Mappings of different cruise regions')\n",
    "plt.xlabel('Longitude')\n",
    "plt.ylabel('Latitude')\n",
    "plt.legend()\n",
    "\n",
    "plt.show()\n"
   ]
  },
  {
   "cell_type": "code",
   "execution_count": null,
   "metadata": {
    "hidden": true
   },
   "outputs": [],
   "source": []
  },
  {
   "cell_type": "code",
   "execution_count": null,
   "metadata": {
    "hidden": true
   },
   "outputs": [],
   "source": [
    "colors = ['blue', 'orange', 'green', 'red', 'purple', 'gray']\n",
    "labels = [\"JAMSTEC\", \"JAMSTEC2\", \"SIO\", \"NGDC\", \"US_MULTI\", \"TEST\"]\n",
    "list_dfs = [jamstec_df, jamstec2_df, sio_df, ngdc_df, us_multi_df, test_df]\n",
    "\n",
    "fig = plt.figure(figsize=(10,10))\n",
    "    \n",
    "%load_ext autoreload\n",
    "%autoreload 2\n",
    "    plt.rcParams.update({'font.size': 22})\n",
    "    \n",
    "\n",
    "    lon = list_dfs[i]['lon'].values\n",
    "    lat = list_dfs[i]['lat'].values\n",
    "\n",
    "    plt.scatter(x=lon, y=lat,c=colors[i], label=labels[i])\n",
    "    plt.scatter(x=test_df['lon'], y=test_df['lat'],c='gray', label=\"TEST\")\n",
    "\n",
    "\n",
    "#     plt.title('Mappings of different cruise regions')\n",
    "    plt.xlabel('Longitude')\n",
    "    plt.ylabel('Latitude')\n",
    "    plt.legend()\n",
    "\n",
    "    plt.show()"
   ]
  },
  {
   "cell_type": "markdown",
   "metadata": {
    "heading_collapsed": true
   },
   "source": [
    "# Create 3D mappings of the dataset using latitude, longitude, and year: "
   ]
  },
  {
   "cell_type": "code",
   "execution_count": null,
   "metadata": {
    "hidden": true
   },
   "outputs": [],
   "source": [
    "from mpl_toolkits.mplot3d import Axes3D\n",
    "import matplotlib.pyplot as plt\n",
    "\n",
    "fig = plt.figure(figsize=(12,10))\n",
    "ax = fig.add_subplot(111, projection='3d')\n",
    "\n",
    "df = jamstec_df\n",
    "\n",
    "\n",
    "ax.scatter(df['lon'], df['lat'], df['year'], s=100, c='r', marker='o', label='JAMSTEC')\n",
    "ax.scatter(test_df['lon'], test_df['lat'], test_df['year'], s=100, c='gray', marker='o', label='TEST')\n",
    "\n",
    "\n",
    "ax.set_xlabel('Longitude', labelpad=20)\n",
    "ax.set_ylabel('Latitude', labelpad=20)\n",
    "ax.set_zlabel('Year', labelpad=20)\n",
    "ax.dist = 10\n",
    "\n",
    "plt.legend()\n",
    "plt.show()"
   ]
  },
  {
   "cell_type": "code",
   "execution_count": null,
   "metadata": {
    "hidden": true
   },
   "outputs": [],
   "source": [
    "from mpl_toolkits.mplot3d import Axes3D\n",
    "import matplotlib.pyplot as plt\n",
    "\n",
    "fig = plt.figure(figsize=(12,10))\n",
    "ax = fig.add_subplot(111, projection='3d')\n",
    "\n",
    "df = jamstec2_df\n",
    "\n",
    "\n",
    "ax.scatter(df['lon'], df['lat'], df['year'], s=100, c='r', marker='o', label='JAMSTEC2')\n",
    "ax.scatter(test_df['lon'], test_df['lat'], test_df['year'], s=100, c='gray', marker='o', label='TEST')\n",
    "\n",
    "\n",
    "ax.set_xlabel('Longitude', labelpad=20)\n",
    "ax.set_ylabel('Latitude', labelpad=20)\n",
    "ax.set_zlabel('Year', labelpad=20)\n",
    "ax.dist = 10\n",
    "\n",
    "plt.legend()\n",
    "plt.show()"
   ]
  },
  {
   "cell_type": "markdown",
   "metadata": {},
   "source": [
    "# generate plot"
   ]
  },
  {
   "cell_type": "code",
   "execution_count": 14,
   "metadata": {
    "ExecuteTime": {
     "end_time": "2020-06-13T04:36:29.747719Z",
     "start_time": "2020-06-13T04:36:29.366128Z"
    }
   },
   "outputs": [],
   "source": [
    "# data_floder = input(\"What is your Bathymetry_Data folder called? \")\n",
    "# data_folder = 'Bathymetry_Data'\n",
    "# data_dir_list = find_files(filename=data_folder, search_path = nb_dir + '/..')\n",
    "# print(data_dir_lst)\n",
    "\n",
    "# data_fn = 'test/test-part00107.tsv'\n",
    "data_fn = 'NGDC/NGDC-part00000.tsv'\n",
    "model_fn = 'NGDC_model.pkl'\n",
    "\n",
    "def model_dir(s): return nb_dir + f'/../runtime_models/{s}'\n",
    "def data_dir(fn): return nb_dir + f'/../Bathymetry_Data/{fn}'\n",
    "\n",
    "file_name = model_dir(model_fn)\n",
    "xgb_model_loaded = pickle.load(open(file_name, \"rb\"))\n",
    "\n",
    "dropped_cols = [3,4,5,35]\n",
    "df = pd.read_csv(data_dir(data_fn), header=None, sep=' ')\n",
    "# .rename(\n",
    "#     columns={0:'lat', 1:'long'}).drop(columns=dropped_cols)"
   ]
  },
  {
   "cell_type": "code",
   "execution_count": 15,
   "metadata": {
    "ExecuteTime": {
     "end_time": "2020-06-13T04:37:02.435875Z",
     "start_time": "2020-06-13T04:36:39.497572Z"
    },
    "scrolled": true
   },
   "outputs": [],
   "source": [
    "# df = get_df(file_name)\n",
    "df = processing_df(df)"
   ]
  },
  {
   "cell_type": "code",
   "execution_count": 19,
   "metadata": {
    "ExecuteTime": {
     "end_time": "2020-06-13T05:37:15.428683Z",
     "start_time": "2020-06-13T05:37:14.885364Z"
    }
   },
   "outputs": [
    {
     "data": {
      "text/html": [
       "<div>\n",
       "<style scoped>\n",
       "    .dataframe tbody tr th:only-of-type {\n",
       "        vertical-align: middle;\n",
       "    }\n",
       "\n",
       "    .dataframe tbody tr th {\n",
       "        vertical-align: top;\n",
       "    }\n",
       "\n",
       "    .dataframe thead th {\n",
       "        text-align: right;\n",
       "    }\n",
       "</style>\n",
       "<table border=\"1\" class=\"dataframe\">\n",
       "  <thead>\n",
       "    <tr style=\"text-align: right;\">\n",
       "      <th></th>\n",
       "      <th>lon</th>\n",
       "      <th>lat</th>\n",
       "      <th>depth</th>\n",
       "      <th>sigh</th>\n",
       "      <th>sigd</th>\n",
       "      <th>pred</th>\n",
       "      <th>(pred-depth)/depth</th>\n",
       "      <th>d10</th>\n",
       "      <th>d20</th>\n",
       "      <th>d60</th>\n",
       "      <th>...</th>\n",
       "      <th>STD30m</th>\n",
       "      <th>MED2.5</th>\n",
       "      <th>MED5m</th>\n",
       "      <th>MED10m</th>\n",
       "      <th>MED30m</th>\n",
       "      <th>D-MED2.5m/STD2.5m</th>\n",
       "      <th>D-MED5m/STD5m</th>\n",
       "      <th>D-MED10m/STD10m</th>\n",
       "      <th>D-MED30m/STD30m</th>\n",
       "      <th>year</th>\n",
       "    </tr>\n",
       "  </thead>\n",
       "  <tbody>\n",
       "    <tr>\n",
       "      <th>0</th>\n",
       "      <td>-60.94230</td>\n",
       "      <td>39.17754</td>\n",
       "      <td>-4974</td>\n",
       "      <td>0</td>\n",
       "      <td>1</td>\n",
       "      <td>-4990</td>\n",
       "      <td>0.003217</td>\n",
       "      <td>0.274731</td>\n",
       "      <td>0.319196</td>\n",
       "      <td>0.344853</td>\n",
       "      <td>...</td>\n",
       "      <td>749.505847</td>\n",
       "      <td>0.564557</td>\n",
       "      <td>-15.65930</td>\n",
       "      <td>-329.342</td>\n",
       "      <td>97.5445</td>\n",
       "      <td>0.016712</td>\n",
       "      <td>-0.109036</td>\n",
       "      <td>-0.722837</td>\n",
       "      <td>0.130145</td>\n",
       "      <td>2003</td>\n",
       "    </tr>\n",
       "    <tr>\n",
       "      <th>1</th>\n",
       "      <td>-60.96140</td>\n",
       "      <td>39.17466</td>\n",
       "      <td>-4936</td>\n",
       "      <td>0</td>\n",
       "      <td>1</td>\n",
       "      <td>-4990</td>\n",
       "      <td>0.010940</td>\n",
       "      <td>0.251237</td>\n",
       "      <td>0.294879</td>\n",
       "      <td>0.336107</td>\n",
       "      <td>...</td>\n",
       "      <td>757.526279</td>\n",
       "      <td>13.182600</td>\n",
       "      <td>1.51866</td>\n",
       "      <td>-381.600</td>\n",
       "      <td>136.5390</td>\n",
       "      <td>0.235613</td>\n",
       "      <td>0.009291</td>\n",
       "      <td>-0.798527</td>\n",
       "      <td>0.180243</td>\n",
       "      <td>2003</td>\n",
       "    </tr>\n",
       "    <tr>\n",
       "      <th>2</th>\n",
       "      <td>-60.95665</td>\n",
       "      <td>39.17576</td>\n",
       "      <td>-5115</td>\n",
       "      <td>0</td>\n",
       "      <td>1</td>\n",
       "      <td>-4990</td>\n",
       "      <td>0.024438</td>\n",
       "      <td>0.259644</td>\n",
       "      <td>0.300137</td>\n",
       "      <td>0.337617</td>\n",
       "      <td>...</td>\n",
       "      <td>755.275773</td>\n",
       "      <td>-156.329000</td>\n",
       "      <td>-167.77900</td>\n",
       "      <td>-532.793</td>\n",
       "      <td>-42.7973</td>\n",
       "      <td>-3.148620</td>\n",
       "      <td>-1.063390</td>\n",
       "      <td>-1.133810</td>\n",
       "      <td>-0.056664</td>\n",
       "      <td>2003</td>\n",
       "    </tr>\n",
       "    <tr>\n",
       "      <th>3</th>\n",
       "      <td>-60.94819</td>\n",
       "      <td>39.17408</td>\n",
       "      <td>-4980</td>\n",
       "      <td>0</td>\n",
       "      <td>1</td>\n",
       "      <td>-4990</td>\n",
       "      <td>0.002008</td>\n",
       "      <td>0.320955</td>\n",
       "      <td>0.341921</td>\n",
       "      <td>0.351400</td>\n",
       "      <td>...</td>\n",
       "      <td>754.292305</td>\n",
       "      <td>-18.408500</td>\n",
       "      <td>-28.92580</td>\n",
       "      <td>-379.693</td>\n",
       "      <td>92.4795</td>\n",
       "      <td>-0.440272</td>\n",
       "      <td>-0.178749</td>\n",
       "      <td>-0.789339</td>\n",
       "      <td>0.122604</td>\n",
       "      <td>2003</td>\n",
       "    </tr>\n",
       "    <tr>\n",
       "      <th>4</th>\n",
       "      <td>-60.94413</td>\n",
       "      <td>39.17424</td>\n",
       "      <td>-4946</td>\n",
       "      <td>0</td>\n",
       "      <td>1</td>\n",
       "      <td>-4990</td>\n",
       "      <td>0.008896</td>\n",
       "      <td>0.328796</td>\n",
       "      <td>0.350331</td>\n",
       "      <td>0.354470</td>\n",
       "      <td>...</td>\n",
       "      <td>752.934078</td>\n",
       "      <td>18.800400</td>\n",
       "      <td>6.53966</td>\n",
       "      <td>-331.169</td>\n",
       "      <td>126.3830</td>\n",
       "      <td>0.496806</td>\n",
       "      <td>0.041181</td>\n",
       "      <td>-0.691294</td>\n",
       "      <td>0.167855</td>\n",
       "      <td>2003</td>\n",
       "    </tr>\n",
       "  </tbody>\n",
       "</table>\n",
       "<p>5 rows x 33 columns</p>\n",
       "</div>"
      ],
      "text/plain": [
       "        lon       lat  depth  sigh  sigd  pred  (pred-depth)/depth       d10  \\\n",
       "0 -60.94230  39.17754  -4974     0     1 -4990            0.003217  0.274731   \n",
       "1 -60.96140  39.17466  -4936     0     1 -4990            0.010940  0.251237   \n",
       "2 -60.95665  39.17576  -5115     0     1 -4990            0.024438  0.259644   \n",
       "3 -60.94819  39.17408  -4980     0     1 -4990            0.002008  0.320955   \n",
       "4 -60.94413  39.17424  -4946     0     1 -4990            0.008896  0.328796   \n",
       "\n",
       "        d20       d60  ...      STD30m      MED2.5      MED5m   MED10m  \\\n",
       "0  0.319196  0.344853  ...  749.505847    0.564557  -15.65930 -329.342   \n",
       "1  0.294879  0.336107  ...  757.526279   13.182600    1.51866 -381.600   \n",
       "2  0.300137  0.337617  ...  755.275773 -156.329000 -167.77900 -532.793   \n",
       "3  0.341921  0.351400  ...  754.292305  -18.408500  -28.92580 -379.693   \n",
       "4  0.350331  0.354470  ...  752.934078   18.800400    6.53966 -331.169   \n",
       "\n",
       "     MED30m  D-MED2.5m/STD2.5m  D-MED5m/STD5m  D-MED10m/STD10m  \\\n",
       "0   97.5445           0.016712      -0.109036        -0.722837   \n",
       "1  136.5390           0.235613       0.009291        -0.798527   \n",
       "2  -42.7973          -3.148620      -1.063390        -1.133810   \n",
       "3   92.4795          -0.440272      -0.178749        -0.789339   \n",
       "4  126.3830           0.496806       0.041181        -0.691294   \n",
       "\n",
       "   D-MED30m/STD30m  year  \n",
       "0         0.130145  2003  \n",
       "1         0.180243  2003  \n",
       "2        -0.056664  2003  \n",
       "3         0.122604  2003  \n",
       "4         0.167855  2003  \n",
       "\n",
       "[5 rows x 33 columns]"
      ]
     },
     "execution_count": 19,
     "metadata": {},
     "output_type": "execute_result"
    }
   ],
   "source": [
    "# data_dir(file_name)\n",
    "# file_name\n",
    "df.head()"
   ]
  },
  {
   "cell_type": "code",
   "execution_count": 18,
   "metadata": {
    "ExecuteTime": {
     "end_time": "2020-06-13T05:36:00.384088Z",
     "start_time": "2020-06-13T05:36:00.358495Z"
    }
   },
   "outputs": [
    {
     "ename": "NameError",
     "evalue": "name 'jamstec_df' is not defined",
     "output_type": "error",
     "traceback": [
      "\u001b[0;31m---------------------------------------------------------------------------\u001b[0m",
      "\u001b[0;31mNameError\u001b[0m                                 Traceback (most recent call last)",
      "\u001b[0;32m<ipython-input-18-5820bee14e1c>\u001b[0m in \u001b[0;36m<module>\u001b[0;34m\u001b[0m\n\u001b[1;32m      1\u001b[0m \u001b[0mcolors\u001b[0m \u001b[0;34m=\u001b[0m \u001b[0;34m[\u001b[0m\u001b[0;34m'red'\u001b[0m\u001b[0;34m,\u001b[0m \u001b[0;34m'gray'\u001b[0m\u001b[0;34m]\u001b[0m\u001b[0;34m\u001b[0m\u001b[0;34m\u001b[0m\u001b[0m\n\u001b[1;32m      2\u001b[0m \u001b[0mlabels\u001b[0m \u001b[0;34m=\u001b[0m \u001b[0;34m[\u001b[0m\u001b[0;34m\"NGDC\"\u001b[0m\u001b[0;34m,\u001b[0m\u001b[0;34m\"TEST\"\u001b[0m\u001b[0;34m]\u001b[0m\u001b[0;34m\u001b[0m\u001b[0;34m\u001b[0m\u001b[0m\n\u001b[0;32m----> 3\u001b[0;31m \u001b[0mlist_dfs\u001b[0m \u001b[0;34m=\u001b[0m \u001b[0;34m[\u001b[0m\u001b[0mjamstec_df\u001b[0m\u001b[0;34m,\u001b[0m \u001b[0mjamstec2_df\u001b[0m\u001b[0;34m,\u001b[0m \u001b[0msio_df\u001b[0m\u001b[0;34m,\u001b[0m \u001b[0mngdc_df\u001b[0m\u001b[0;34m,\u001b[0m \u001b[0mus_multi_df\u001b[0m\u001b[0;34m,\u001b[0m \u001b[0mtest_df\u001b[0m\u001b[0;34m]\u001b[0m\u001b[0;34m\u001b[0m\u001b[0;34m\u001b[0m\u001b[0m\n\u001b[0m\u001b[1;32m      4\u001b[0m \u001b[0;34m\u001b[0m\u001b[0m\n\u001b[1;32m      5\u001b[0m \u001b[0mplt\u001b[0m\u001b[0;34m.\u001b[0m\u001b[0mrcParams\u001b[0m\u001b[0;34m.\u001b[0m\u001b[0mupdate\u001b[0m\u001b[0;34m(\u001b[0m\u001b[0;34m{\u001b[0m\u001b[0;34m'font.size'\u001b[0m\u001b[0;34m:\u001b[0m \u001b[0;36m22\u001b[0m\u001b[0;34m}\u001b[0m\u001b[0;34m)\u001b[0m\u001b[0;34m\u001b[0m\u001b[0;34m\u001b[0m\u001b[0m\n",
      "\u001b[0;31mNameError\u001b[0m: name 'jamstec_df' is not defined"
     ]
    }
   ],
   "source": [
    "colors = ['red', 'gray']\n",
    "labels = [\"NGDC\",\"TEST\"]\n",
    "list_dfs = [ngdc_df, test_df]\n",
    "\n",
    "plt.rcParams.update({'font.size': 26})\n",
    "plt.figure(figsize=(20,10))\n",
    "\n",
    "for i in range(0, len(list_dfs)):\n",
    "    #     print(labels[i])\n",
    "    lon = list_dfs[i]['lon'].values\n",
    "    lat = list_dfs[i]['lat'].values\n",
    "    plt.scatter(lon, lat, c=colors[i], label=labels[i])\n",
    "                \n",
    "\n",
    "plt.title('Mappings of different cruise regions')\n",
    "plt.xlabel('Longitude')\n",
    "plt.ylabel('Latitude')\n",
    "plt.legend()\n",
    "\n",
    "plt.show()\n"
   ]
  },
  {
   "cell_type": "code",
   "execution_count": 17,
   "metadata": {
    "ExecuteTime": {
     "end_time": "2020-06-13T05:33:26.310664Z",
     "start_time": "2020-06-13T05:33:26.133003Z"
    }
   },
   "outputs": [
    {
     "name": "stdout",
     "output_type": "stream",
     "text": [
      "/home/timothytyree/Documents/GitHub/bathymetry/notebooks\r\n"
     ]
    }
   ],
   "source": []
  },
  {
   "cell_type": "code",
   "execution_count": 20,
   "metadata": {
    "ExecuteTime": {
     "end_time": "2020-06-13T05:40:59.726187Z",
     "start_time": "2020-06-13T05:40:59.707936Z"
    }
   },
   "outputs": [],
   "source": [
    "region='test'\n",
    "lst = []\n",
    "for f in os.walk(f\"{nb_dir}/../Bathymetry_Data/{region}/\"):\n",
    "    lst.append(f)"
   ]
  },
  {
   "cell_type": "code",
   "execution_count": 23,
   "metadata": {
    "ExecuteTime": {
     "end_time": "2020-06-13T05:45:02.947892Z",
     "start_time": "2020-06-13T05:45:02.927188Z"
    }
   },
   "outputs": [
    {
     "data": {
      "text/plain": [
       "81"
      ]
     },
     "execution_count": 23,
     "metadata": {},
     "output_type": "execute_result"
    }
   ],
   "source": [
    "len(lst[0][0])"
   ]
  },
  {
   "cell_type": "code",
   "execution_count": 25,
   "metadata": {
    "ExecuteTime": {
     "end_time": "2020-06-13T05:46:30.781058Z",
     "start_time": "2020-06-13T05:46:30.756454Z"
    }
   },
   "outputs": [
    {
     "data": {
      "text/plain": [
       "0"
      ]
     },
     "execution_count": 25,
     "metadata": {},
     "output_type": "execute_result"
    }
   ],
   "source": [
    "len(lst[0][1])"
   ]
  },
  {
   "cell_type": "code",
   "execution_count": 26,
   "metadata": {
    "ExecuteTime": {
     "end_time": "2020-06-13T05:47:04.441563Z",
     "start_time": "2020-06-13T05:47:04.414060Z"
    }
   },
   "outputs": [
    {
     "data": {
      "text/plain": [
       "108"
      ]
     },
     "execution_count": 26,
     "metadata": {},
     "output_type": "execute_result"
    }
   ],
   "source": [
    "len(lst[0][2])"
   ]
  },
  {
   "cell_type": "code",
   "execution_count": 28,
   "metadata": {
    "ExecuteTime": {
     "end_time": "2020-06-13T05:49:50.876807Z",
     "start_time": "2020-06-13T05:49:50.854162Z"
    }
   },
   "outputs": [
    {
     "name": "stdout",
     "output_type": "stream",
     "text": [
      "['test-part00057.tsv', 'test-part00040.tsv', 'test-part00094.tsv', 'test-part00084.tsv', 'test-part00081.tsv', 'test-part00039.tsv', 'test-part00002.tsv', 'test-part00097.tsv', 'test-part00071.tsv', 'test-part00031.tsv']\n"
     ]
    }
   ],
   "source": [
    "print(lst[0][2][:10])"
   ]
  },
  {
   "cell_type": "code",
   "execution_count": null,
   "metadata": {},
   "outputs": [],
   "source": []
  }
 ],
 "metadata": {
  "kernelspec": {
   "display_name": "Python 3",
   "language": "python",
   "name": "python3"
  },
  "toc": {
   "base_numbering": 1,
   "nav_menu": {},
   "number_sections": true,
   "sideBar": true,
   "skip_h1_title": false,
   "title_cell": "Table of Contents",
   "title_sidebar": "Contents",
   "toc_cell": false,
   "toc_position": {},
   "toc_section_display": true,
   "toc_window_display": false
  },
  "varInspector": {
   "cols": {
    "lenName": 16,
    "lenType": 16,
    "lenVar": 40
   },
   "kernels_config": {
    "python": {
     "delete_cmd_postfix": "",
     "delete_cmd_prefix": "del ",
     "library": "var_list.py",
     "varRefreshCmd": "print(var_dic_list())"
    },
    "r": {
     "delete_cmd_postfix": ") ",
     "delete_cmd_prefix": "rm(",
     "library": "var_list.r",
     "varRefreshCmd": "cat(var_dic_list()) "
    }
   },
   "types_to_exclude": [
    "module",
    "function",
    "builtin_function_or_method",
    "instance",
    "_Feature"
   ],
   "window_display": false
  }
 },
 "nbformat": 4,
 "nbformat_minor": 2
}

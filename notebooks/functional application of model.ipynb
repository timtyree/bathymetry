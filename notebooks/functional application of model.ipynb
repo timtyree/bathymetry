{
 "cells": [
  {
   "cell_type": "markdown",
   "metadata": {},
   "source": [
    "# a functional application of ensemble model to predict label of bathymetry data\n",
    "Tim Tyree\n",
    "6.12.2020"
   ]
  },
  {
   "cell_type": "code",
   "execution_count": 1,
   "metadata": {
    "ExecuteTime": {
     "end_time": "2020-06-13T01:30:32.822288Z",
     "start_time": "2020-06-13T01:30:31.316370Z"
    }
   },
   "outputs": [
    {
     "name": "stdout",
     "output_type": "stream",
     "text": [
      "Populating the interactive namespace from numpy and matplotlib\n"
     ]
    },
    {
     "name": "stderr",
     "output_type": "stream",
     "text": [
      "UserWarning: The Dask Engine for Modin is experimental.\n"
     ]
    }
   ],
   "source": [
    "\n",
    "%pylab inline\n",
    "import numpy as np\n",
    "import xgboost as xgb\n",
    "from sklearn.model_selection import train_test_split\n",
    "import matplotlib.pyplot as plt\n",
    "from lib import XGBHelper as xgbh\n",
    "import os, pickle\n",
    "import modin.pandas as pd\n",
    "\n",
    "from lib.logger import logger\n",
    "from lib.operari import *\n",
    "if 'nb_dir' not in globals():\n",
    "    nb_dir = os.getcwd()\n",
    "    \n",
    "%load_ext autoreload\n",
    "%autoreload 2"
   ]
  },
  {
   "cell_type": "code",
   "execution_count": 66,
   "metadata": {
    "ExecuteTime": {
     "end_time": "2020-06-13T02:06:35.307538Z",
     "start_time": "2020-06-13T02:06:35.269817Z"
    }
   },
   "outputs": [],
   "source": [
    "# data_floder = input(\"What is your Bathymetry_Data folder called? \")\n",
    "# data_folder = 'Bathymetry_Data'\n",
    "# data_dir_list = find_files(filename=data_folder, search_path = nb_dir + '/..')\n",
    "# print(data_dir_lst)\n",
    "\n",
    "# data_fn = 'test/test-part00107.tsv'\n",
    "data_fn = 'NGDC/NGDC-part00000.tsv'\n",
    "model_fn = 'NGDC_model.pkl'"
   ]
  },
  {
   "cell_type": "code",
   "execution_count": 67,
   "metadata": {
    "ExecuteTime": {
     "end_time": "2020-06-13T02:06:37.291956Z",
     "start_time": "2020-06-13T02:06:37.277531Z"
    }
   },
   "outputs": [],
   "source": [
    "def model_dir(s): return nb_dir + f'/../runtime_models/{s}'\n",
    "def data_dir(fn): return nb_dir + f'/../Bathymetry_Data/{fn}'\n",
    "\n",
    "file_name = model_dir(model_fn)\n",
    "xgb_model_loaded = pickle.load(open(file_name, \"rb\"))\n",
    "\n",
    "dropped_cols = [3,4,5,35]\n",
    "df = pd.read_csv(data_dir(data_fn), header=None, sep=' ').rename(\n",
    "    columns={0:'lat', 1:'long'}).drop(columns=dropped_cols)"
   ]
  },
  {
   "cell_type": "code",
   "execution_count": 76,
   "metadata": {
    "ExecuteTime": {
     "end_time": "2020-06-13T05:37:56.763373Z",
     "start_time": "2020-06-13T05:37:56.719553Z"
    }
   },
   "outputs": [
    {
     "ename": "NameError",
     "evalue": "name 'processing_df' is not defined",
     "output_type": "error",
     "traceback": [
      "\u001b[0;31m---------------------------------------------------------------------------\u001b[0m",
      "\u001b[0;31mNameError\u001b[0m                                 Traceback (most recent call last)",
      "\u001b[0;32m<ipython-input-76-06e12bf4bd8c>\u001b[0m in \u001b[0;36m<module>\u001b[0;34m\u001b[0m\n\u001b[0;32m----> 1\u001b[0;31m \u001b[0mdf\u001b[0m \u001b[0;34m=\u001b[0m \u001b[0mprocessing_df\u001b[0m\u001b[0;34m(\u001b[0m\u001b[0mdf\u001b[0m\u001b[0;34m)\u001b[0m\u001b[0;34m\u001b[0m\u001b[0;34m\u001b[0m\u001b[0m\n\u001b[0m",
      "\u001b[0;31mNameError\u001b[0m: name 'processing_df' is not defined"
     ]
    }
   ],
   "source": [
    "df = processing_df(df)\n",
    "df.describe().T"
   ]
  },
  {
   "cell_type": "code",
   "execution_count": 71,
   "metadata": {
    "ExecuteTime": {
     "end_time": "2020-06-13T02:07:14.319949Z",
     "start_time": "2020-06-13T02:07:10.607268Z"
    }
   },
   "outputs": [],
   "source": [
    "result = xgb_model_loaded.predict(\n",
    "    data=df.values,\n",
    "    num_iteration=None,\n",
    "    raw_score=False,\n",
    "    pred_leaf=False,\n",
    "    pred_contrib=False,\n",
    "    data_has_header=False,\n",
    "    is_reshape=True,\n",
    ")"
   ]
  },
  {
   "cell_type": "code",
   "execution_count": 53,
   "metadata": {
    "ExecuteTime": {
     "end_time": "2020-06-13T01:58:36.069961Z",
     "start_time": "2020-06-13T01:58:36.031419Z"
    }
   },
   "outputs": [],
   "source": [
    "# df.describe().T"
   ]
  },
  {
   "cell_type": "code",
   "execution_count": 72,
   "metadata": {
    "ExecuteTime": {
     "end_time": "2020-06-13T02:07:34.504898Z",
     "start_time": "2020-06-13T02:07:34.371072Z"
    },
    "scrolled": true
   },
   "outputs": [
    {
     "data": {
      "image/png": "[encoded data removed]",
      "text/plain": [
       "<Figure size 432x288 with 1 Axes>"
      ]
     },
     "metadata": {
      "needs_background": "light"
     },
     "output_type": "display_data"
    }
   ],
   "source": [
    "plt.hist(result)\n",
    "plt.show()"
   ]
  },
  {
   "cell_type": "code",
   "execution_count": 75,
   "metadata": {
    "ExecuteTime": {
     "end_time": "2020-06-13T05:37:52.652556Z",
     "start_time": "2020-06-13T05:37:52.618551Z"
    }
   },
   "outputs": [
    {
     "name": "stdout",
     "output_type": "stream",
     "text": [
      "max score was 0.2240.\n",
      "mean score was 0.0126.\n",
      "min score was 0.0054.\n"
     ]
    }
   ],
   "source": [
    "print(f\"max score was {np.max(result):.4f}.\")\n",
    "print(f\"mean score was {np.mean(result):.4f}.\")\n",
    "print(f\"min score was {np.min(result):.4f}.\")"
   ]
  },
  {
   "cell_type": "markdown",
   "metadata": {},
   "source": [
    "max score was 0.02250869083905492.\n",
    "mean score was 0.009808169851498471.\n",
    "min score was 0.006940446619438943."
   ]
  },
  {
   "cell_type": "code",
   "execution_count": null,
   "metadata": {},
   "outputs": [],
   "source": []
  }
 ],
 "metadata": {
  "kernelspec": {
   "display_name": "Python 3",
   "language": "python",
   "name": "python3"
  },
  "language_info": {
   "codemirror_mode": {
    "name": "ipython",
    "version": 3
   },
   "file_extension": ".py",
   "mimetype": "text/x-python",
   "name": "python",
   "nbconvert_exporter": "python",
   "pygments_lexer": "ipython3",
   "version": "3.7.6"
  },
  "toc": {
   "base_numbering": 1,
   "nav_menu": {},
   "number_sections": true,
   "sideBar": true,
   "skip_h1_title": false,
   "title_cell": "Table of Contents",
   "title_sidebar": "Contents",
   "toc_cell": false,
   "toc_position": {},
   "toc_section_display": true,
   "toc_window_display": false
  },
  "varInspector": {
   "cols": {
    "lenName": 16,
    "lenType": 16,
    "lenVar": 40
   },
   "kernels_config": {
    "python": {
     "delete_cmd_postfix": "",
     "delete_cmd_prefix": "del ",
     "library": "var_list.py",
     "varRefreshCmd": "print(var_dic_list())"
    },
    "r": {
     "delete_cmd_postfix": ") ",
     "delete_cmd_prefix": "rm(",
     "library": "var_list.r",
     "varRefreshCmd": "cat(var_dic_list()) "
    }
   },
   "types_to_exclude": [
    "module",
    "function",
    "builtin_function_or_method",
    "instance",
    "_Feature"
   ],
   "window_display": false
  }
 },
 "nbformat": 4,
 "nbformat_minor": 4
}
